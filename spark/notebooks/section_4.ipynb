{
 "cells": [
  {
   "cell_type": "markdown",
   "id": "6ef15155-cbf7-4166-9ef0-e011afc8b990",
   "metadata": {},
   "source": [
    "# Section 4"
   ]
  },
  {
   "cell_type": "code",
   "execution_count": 20,
   "id": "7e42ebc6-12fa-4ec7-913a-68c98b67b1f1",
   "metadata": {},
   "outputs": [],
   "source": [
    "from pyspark.sql import SparkSession, Row\n",
    "from pyspark.sql import functions as func\n",
    "from pyspark.sql.types import StructType, StructField, StringType, IntegerType, FloatType\n",
    "import collections\n"
   ]
  },
  {
   "cell_type": "code",
   "execution_count": 21,
   "id": "79ea0a3a-e6cd-498c-88f5-9cc2ce5739bd",
   "metadata": {},
   "outputs": [],
   "source": [
    "# Create a SparkSession (Note, the config section is only for Windows!)\n",
    "spark = SparkSession.builder.appName(\"SparkSQL\").master(\"local[*]\").getOrCreate()\n"
   ]
  },
  {
   "cell_type": "code",
   "execution_count": 22,
   "id": "26984ca6-5937-4377-9013-ab3a46689a58",
   "metadata": {},
   "outputs": [],
   "source": [
    "DATA_ROOT = \"../spark_course_resources\""
   ]
  },
  {
   "cell_type": "markdown",
   "id": "b8296144-0521-46e0-a636-11525dbf7776",
   "metadata": {},
   "source": [
    "## Fake Friends"
   ]
  },
  {
   "cell_type": "code",
   "execution_count": null,
   "id": "db51adaf-5e7b-42e7-8b55-10bbbb3ec2c2",
   "metadata": {},
   "outputs": [],
   "source": []
  },
  {
   "cell_type": "code",
   "execution_count": null,
   "id": "a829a620-9a4e-4dab-806a-e65ce8d6dfca",
   "metadata": {},
   "outputs": [],
   "source": []
  },
  {
   "cell_type": "code",
   "execution_count": null,
   "id": "3dc8c047-35ab-455c-bfad-62fa4fc7239a",
   "metadata": {},
   "outputs": [],
   "source": []
  },
  {
   "cell_type": "markdown",
   "id": "7996c7f3-000a-4cc3-b799-732b5233682d",
   "metadata": {},
   "source": [
    "### Word count"
   ]
  },
  {
   "cell_type": "code",
   "execution_count": null,
   "id": "2c6b36e2-699e-4e65-94f6-217549b3087f",
   "metadata": {},
   "outputs": [],
   "source": []
  },
  {
   "cell_type": "markdown",
   "id": "9aaf568e-d8f9-43c5-b606-b30b240be6b5",
   "metadata": {},
   "source": [
    "### Min temperature"
   ]
  },
  {
   "cell_type": "code",
   "execution_count": null,
   "id": "8ea95897-e933-433e-8ca8-6810429d9667",
   "metadata": {},
   "outputs": [],
   "source": []
  },
  {
   "cell_type": "markdown",
   "id": "02e68be5-906b-4a37-b804-79c1aa147b1e",
   "metadata": {},
   "source": [
    "### Customer Orders"
   ]
  },
  {
   "cell_type": "code",
   "execution_count": null,
   "id": "c05662ff-16f8-4883-b630-5bdfd1b76a41",
   "metadata": {},
   "outputs": [],
   "source": []
  },
  {
   "cell_type": "code",
   "execution_count": null,
   "id": "4c31af9a-59ff-4c51-b2e6-04635b2f54e3",
   "metadata": {},
   "outputs": [],
   "source": []
  }
 ],
 "metadata": {
  "kernelspec": {
   "display_name": "Python 3 (ipykernel)",
   "language": "python",
   "name": "python3"
  },
  "language_info": {
   "codemirror_mode": {
    "name": "ipython",
    "version": 3
   },
   "file_extension": ".py",
   "mimetype": "text/x-python",
   "name": "python",
   "nbconvert_exporter": "python",
   "pygments_lexer": "ipython3",
   "version": "3.11.6"
  }
 },
 "nbformat": 4,
 "nbformat_minor": 5
}
