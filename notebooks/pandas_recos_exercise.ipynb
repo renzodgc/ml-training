{
 "cells": [
  {
   "cell_type": "markdown",
   "metadata": {},
   "source": [
    "# Pandas Exercise\n",
    "\n",
    "### The goal of this exercise is to analyse what would happen when we try to impose a hardcoded rule over recommendations instead of a data driven one.\n",
    "\n",
    "### In this case we want to compare what would happen if we only recommend from a list of top 200 most popular items\n"
   ]
  },
  {
   "cell_type": "code",
   "execution_count": 12,
   "metadata": {},
   "outputs": [],
   "source": [
    "import pandas as pd"
   ]
  },
  {
   "cell_type": "code",
   "execution_count": 29,
   "metadata": {},
   "outputs": [],
   "source": [
    "recos_path = 'pandas_recos_exercise_data.parquet'"
   ]
  },
  {
   "cell_type": "code",
   "execution_count": 30,
   "metadata": {},
   "outputs": [],
   "source": [
    "df = pd.read_parquet(recos_path)"
   ]
  },
  {
   "cell_type": "markdown",
   "metadata": {},
   "source": [
    "####  Each row contains a pc9 (product code) of a product and its recommendation and its confidence score. The higher the score then the most likely a user that is interested in `pc9_prod` would be interested in `pc9_reco`.\n",
    "\n",
    "####  We also add product information as well. "
   ]
  },
  {
   "cell_type": "code",
   "execution_count": 31,
   "metadata": {},
   "outputs": [
    {
     "data": {
      "text/html": [
       "<div>\n",
       "<style scoped>\n",
       "    .dataframe tbody tr th:only-of-type {\n",
       "        vertical-align: middle;\n",
       "    }\n",
       "\n",
       "    .dataframe tbody tr th {\n",
       "        vertical-align: top;\n",
       "    }\n",
       "\n",
       "    .dataframe thead th {\n",
       "        text-align: right;\n",
       "    }\n",
       "</style>\n",
       "<table border=\"1\" class=\"dataframe\">\n",
       "  <thead>\n",
       "    <tr style=\"text-align: right;\">\n",
       "      <th></th>\n",
       "      <th>pc9_prod</th>\n",
       "      <th>pc9_reco</th>\n",
       "      <th>confidence</th>\n",
       "      <th>gender_prod</th>\n",
       "      <th>gender_reco</th>\n",
       "      <th>product_item_type_prod</th>\n",
       "      <th>product_item_type_reco</th>\n",
       "    </tr>\n",
       "  </thead>\n",
       "  <tbody>\n",
       "    <tr>\n",
       "      <th>0</th>\n",
       "      <td>D75140003</td>\n",
       "      <td>D75830003</td>\n",
       "      <td>0.571429</td>\n",
       "      <td>Adults</td>\n",
       "      <td>Women</td>\n",
       "      <td>Bags</td>\n",
       "      <td>Hats</td>\n",
       "    </tr>\n",
       "    <tr>\n",
       "      <th>1</th>\n",
       "      <td>D75140003</td>\n",
       "      <td>D72980002</td>\n",
       "      <td>0.571429</td>\n",
       "      <td>Adults</td>\n",
       "      <td>Adults</td>\n",
       "      <td>Bags</td>\n",
       "      <td>Bags</td>\n",
       "    </tr>\n",
       "    <tr>\n",
       "      <th>2</th>\n",
       "      <td>D75140003</td>\n",
       "      <td>000AG0002</td>\n",
       "      <td>0.571429</td>\n",
       "      <td>Adults</td>\n",
       "      <td>Women</td>\n",
       "      <td>Bags</td>\n",
       "      <td>Hats</td>\n",
       "    </tr>\n",
       "    <tr>\n",
       "      <th>3</th>\n",
       "      <td>D75140003</td>\n",
       "      <td>D79200001</td>\n",
       "      <td>0.571429</td>\n",
       "      <td>Adults</td>\n",
       "      <td>Women</td>\n",
       "      <td>Bags</td>\n",
       "      <td>Hats</td>\n",
       "    </tr>\n",
       "    <tr>\n",
       "      <th>4</th>\n",
       "      <td>D75140003</td>\n",
       "      <td>D79200004</td>\n",
       "      <td>0.571429</td>\n",
       "      <td>Adults</td>\n",
       "      <td>Women</td>\n",
       "      <td>Bags</td>\n",
       "      <td>Hats</td>\n",
       "    </tr>\n",
       "  </tbody>\n",
       "</table>\n",
       "</div>"
      ],
      "text/plain": [
       "    pc9_prod   pc9_reco  confidence gender_prod gender_reco  \\\n",
       "0  D75140003  D75830003    0.571429      Adults       Women   \n",
       "1  D75140003  D72980002    0.571429      Adults      Adults   \n",
       "2  D75140003  000AG0002    0.571429      Adults       Women   \n",
       "3  D75140003  D79200001    0.571429      Adults       Women   \n",
       "4  D75140003  D79200004    0.571429      Adults       Women   \n",
       "\n",
       "  product_item_type_prod product_item_type_reco  \n",
       "0                   Bags                   Hats  \n",
       "1                   Bags                   Bags  \n",
       "2                   Bags                   Hats  \n",
       "3                   Bags                   Hats  \n",
       "4                   Bags                   Hats  "
      ]
     },
     "execution_count": 31,
     "metadata": {},
     "output_type": "execute_result"
    }
   ],
   "source": [
    "df.head()"
   ]
  },
  {
   "cell_type": "code",
   "execution_count": 16,
   "metadata": {},
   "outputs": [],
   "source": [
    "audit_pc9s=[\n",
    "    \"372470011\",\"A71390000\",\"358830007\",\"A79400000\",\"566050009\",\"857440047\",\"A57820000\",\"791070020\",\"365120228\",\"181810526\",\"181810529\",\"387120242\",\"594920207\",\"015504891\",\"A59340004\",\"523330050\",\"A72620004\",\"A93490001\",\"A33810001\",\"A84200000\",\"771350732\",\"A17430011\",\"392520048\",\"A74580003\",\"A93160002\",\"A72470003\",\"299690092\",\"A89760001\",\"A71750001\",\"779940075\",\"A35000003\",\n",
    "]"
   ]
  },
  {
   "cell_type": "code",
   "execution_count": 5,
   "metadata": {},
   "outputs": [],
   "source": [
    "popular_200_products=[\n",
    "    \"A85670000\",\"A85670001\",\"A85670002\",\"A85670003\",\"173693178\",\"173693179\",\"A93410000\",\"A93410001\",\"A93410002\",\"A93410003\",\"A93410004\",\"A93410005\",\"A93410006\",\"A93410007\",\"A93410008\",\"A93410011\",\"A34190000\",\"A34190021\",\"A57840017\",\"A57840018\",\"163650044\",\"163650054\",\"163650075\",\"163650122\",\"A34190022\",\"A34190025\",\"A34190026\",\"A34190027\",\"0008R0000\",\"0008R0001\",\"A16160001\",\"A16160003\",\"A16160007\",\"A16160008\",\"A72070000\",\"A72070001\",\"A72070002\",\"A72070004\",\"A57840005\",\"A57840006\",\"A57840011\",\"A57840016\",\"A16160065\",\"A16160066\",\"296910005\",\"296910006\",\"296910007\",\"296910008\",\"296910015\",\"296910022\",\"296910016\",\"296910017\",\"195870289\",\"195870290\",\"195870291\",\"195870293\",\"195870302\",\"A08670023\",\"A08670024\",\"A08670015\",\"361360020\",\"361360071\",\"361360098\",\"361360080\",\"361360096\",\"A87580000\",\"A87580001\",\"299450038\",\"299450206\",\"A08670017\",\"A08670018\",\"A08670021\",\"A08670022\",\"A10970004\",\"A10970005\",\"A86420000\",\"A86420001\",\"A86420002\",\"A19920009\",\"A19920013\",\"A84920000\",\"A84920001\",\"A84920002\",\"A86420003\",\"A86420004\",\"A83200000\",\"A83200004\",\"A83200007\",\"A83200008\",\"000J40004\",\"000J40002\",\"000J40003\",\"000J40008\",\"000J40006\",\"000J40007\",\"000MQ0003\",\"000MQ0002\",\"000MQ0001\",\"000MQ0000\",\"000JM0000\",\"000JM0001\",\"000JM0002\",\"000J70001\",\"000J70002\",\"000J70000\",\"000MR0003\",\"000MR0002\",\"000MR0001\",\"000MR0000\",\"771620018\",\"595450045\",\"595440335\",\"595440307\",\"595440575\",\"595440567\",\"595440333\",\"595440308\",\"595440576\",\"595440314\",\"595440336\",\"595440577\",\"595440578\",\"595450241\",\"595450242\",\"595450243\",\"595450244\",\"595460191\",\"595460190\",\"595450041\",\"595450042\",\"595460180\",\"595460181\",\"595460182\",\"595450249\",\"595450252\",\"595440006\",\"595440331\",\"595440566\",\"594910065\",\"594910000\",\"594910402\",\"594910403\",\"594920176\",\"594920177\",\"594920249\",\"594910373\",\"594920250\",\"594920251\",\"594910509\",\"594910405\",\"594910378\",\"594910408\",\"594910510\",\"594910380\",\"594910383\",\"594910513\",\"594910514\",\"594920252\",\"594920253\",\"594910415\",\"594910517\",\"594920254\",\"594920255\",\"594930061\",\"594930075\",\"594930062\",\"594930059\",\"594930076\",\"594920256\",\"594920257\",\"594920258\",\"594920259\",\"594930016\",\"594930077\",\"594930078\",\"594930079\",\"594930080\",\"594930092\",\"594930081\",\"594930082\",\"594930083\",\"594930084\",\"594930085\",\"CHASE0001\",\"CHASE0002\",\"CHASE0003\",\"CHASE0004\",\"A7284NVGR\",\"A7284GRBK\",\"A7284VTGR\",\"A7284PYGN\",\"594930093\",\"594930094\",\"594920260\",\"594920261\",\"594920262\",\"594930095\",\"594930096\",\"594930097\",\"594930098\",\n",
    "]"
   ]
  },
  {
   "cell_type": "markdown",
   "metadata": {},
   "source": [
    "#### If you can only recommend products from the '200' products, what percentage of pc9s from the full catalogue had at least one recommendation?\n",
    "\n"
   ]
  },
  {
   "cell_type": "code",
   "execution_count": 1,
   "metadata": {},
   "outputs": [],
   "source": [
    "## I'd change to:\n",
    "#### If you filter the data to only recommend products from the '200' selected products..."
   ]
  },
  {
   "cell_type": "markdown",
   "metadata": {},
   "source": [
    "#### If you can only recommend products from the '200' products, what percentage of pc9s from the full catalogue had at least 20 recommendations?\n"
   ]
  },
  {
   "cell_type": "code",
   "execution_count": null,
   "metadata": {},
   "outputs": [],
   "source": [
    "## I'd change to:\n",
    "#### If you filter the data to only recommend products from the '200' selected products...\n",
    "# In the Dataset only 2 had 3 recommendations and 41 had 2. I'd change the 20 to a 2"
   ]
  },
  {
   "cell_type": "markdown",
   "metadata": {},
   "source": [
    "#### What is the average number of recommendations for each pc9 when we can only recommend popular products?\n"
   ]
  },
  {
   "cell_type": "code",
   "execution_count": null,
   "metadata": {},
   "outputs": [],
   "source": []
  },
  {
   "cell_type": "markdown",
   "metadata": {},
   "source": [
    "#### What is the mean of means confidence of normal vs '200' version of recommendations for top K recommendations? Set K to 10\n"
   ]
  },
  {
   "cell_type": "code",
   "execution_count": null,
   "metadata": {},
   "outputs": [],
   "source": [
    "# I'd change to:\n",
    "#### What is the mean of means confidence of all recommendations vs filtering to only recommend the '200' selected prodcuts for the top K recommendations? Set K to 10 and use confidence to sort the top K\n"
   ]
  },
  {
   "cell_type": "markdown",
   "metadata": {},
   "source": [
    "#### What percentage of PC9's had at least ONE of the 200 products recommended in the top K? Set K to 20\n"
   ]
  },
  {
   "cell_type": "code",
   "execution_count": null,
   "metadata": {},
   "outputs": [],
   "source": []
  },
  {
   "cell_type": "markdown",
   "metadata": {},
   "source": [
    "#### Extract top k recos for each of the pc9s sent in the audit for normal run and for '200' run. Save file to csv. Set k to 20"
   ]
  },
  {
   "cell_type": "code",
   "execution_count": null,
   "metadata": {},
   "outputs": [],
   "source": [
    "# I'd change to:\n",
    "#### Extract the top K recommendations for each of the pc9s in the audit for the set with all recommendations and the one filtered for products that only recommend from the 200 preselected productse mean of means confidence of all recommendations vs filtering to only recommend the '200' selected products. Set K to 20 and save the result as a CSV."
   ]
  }
 ],
 "metadata": {
  "kernelspec": {
   "display_name": "Python 3 (ipykernel)",
   "language": "python",
   "name": "python3"
  },
  "language_info": {
   "codemirror_mode": {
    "name": "ipython",
    "version": 3
   },
   "file_extension": ".py",
   "mimetype": "text/x-python",
   "name": "python",
   "nbconvert_exporter": "python",
   "pygments_lexer": "ipython3",
   "version": "3.11.6"
  }
 },
 "nbformat": 4,
 "nbformat_minor": 4
}
