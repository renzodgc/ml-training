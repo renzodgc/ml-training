{
 "cells": [
  {
   "cell_type": "markdown",
   "id": "793086c8-54f3-4239-bd25-5d4ffacf70ee",
   "metadata": {},
   "source": [
    "# Pandas exercise"
   ]
  },
  {
   "cell_type": "markdown",
   "id": "8e45b207-9e7b-425f-b47e-00bc9e1c3ad0",
   "metadata": {},
   "source": [
    "## Dependencies"
   ]
  },
  {
   "cell_type": "code",
   "execution_count": 11,
   "id": "039040bc-0681-43dc-91e4-1b053a4e1b01",
   "metadata": {},
   "outputs": [],
   "source": [
    "import pandas as pd"
   ]
  },
  {
   "cell_type": "markdown",
   "id": "67246f2b-b003-4df1-9148-f6956f49b7d6",
   "metadata": {},
   "source": [
    "## Constants"
   ]
  },
  {
   "cell_type": "code",
   "execution_count": 12,
   "id": "7fb038e0-6dff-40b9-a754-1a1161753780",
   "metadata": {},
   "outputs": [],
   "source": [
    "DATASET_PATH = \"../dataset/pandas-exercise\""
   ]
  },
  {
   "cell_type": "markdown",
   "id": "73dd9570-128f-4fd4-9f08-c6ca4b3b5b8d",
   "metadata": {},
   "source": [
    "## Read Data"
   ]
  },
  {
   "cell_type": "code",
   "execution_count": 14,
   "id": "b5bc4c20-ccbe-4e7f-8d57-dd17e7f79754",
   "metadata": {},
   "outputs": [],
   "source": [
    "import pandas as pd\n",
    "\n",
    "df = pd.read_csv(f\"{DATASET_PATH}/similarity_scores.csv\", dtype={'prod': str, 'reco': str, 'score': float})\n",
    "df_types = pd.read_csv(f\"{DATASET_PATH}/types.csv\", dtype=str)"
   ]
  },
  {
   "cell_type": "markdown",
   "id": "f80df5a1-2183-4394-ab58-c7aaed2a5aa5",
   "metadata": {},
   "source": [
    "## Exercises"
   ]
  },
  {
   "cell_type": "markdown",
   "id": "5795c610-df5e-46fc-8c62-626101e2f849",
   "metadata": {},
   "source": [
    "### Exercise 1\n",
    "For each product, find the top k most similar products, where k is a parameter (fix it to 100 for this exercise). Each product in the list should be sorted by similarity score in descendent order."
   ]
  },
  {
   "cell_type": "code",
   "execution_count": 21,
   "id": "79e943c8-c99c-41c4-b0b8-50d8d65c5b4b",
   "metadata": {},
   "outputs": [],
   "source": [
    "def get_top_k_recommendations(df: pd.DataFrame, k: int) -> pd.DataFrame:\n",
    "    df_recos = None\n",
    "    return df_recos"
   ]
  },
  {
   "cell_type": "markdown",
   "id": "a8ab3afe-823f-4335-8519-d2eb59cc2e15",
   "metadata": {},
   "source": [
    "#### Expected Output\n",
    "```\n",
    "prod\trecos\n",
    "0\t0001\t[0476, 0718, 0676, 0140, 0155, 0306, 0192, 044...\n",
    "1\t0002\t[0334, 0592, 0728, 0053, 0828, 0518, 0430, 054...\n",
    "2\t0003\t[0452, 0034, 0186, 0950, 0028, 0123, 0125, 082...\n",
    "3\t0004\t[0806, 0516, 0854, 0957, 0198, 0484, 0637, 070...\n",
    "4\t0005\t[0907, 0302, 0172, 0905, 0734, 0690, 0017, 051...\n",
    "...\t...\t...\n",
    "995\t0996\t[0534, 0481, 0571, 0723, 0613, 0962, 0707, 052...\n",
    "996\t0997\t[0281, 0193, 0917, 0890, 0423, 0875, 0579, 015...\n",
    "997\t0998\t[0778, 0542, 0155, 0010, 0054, 0938, 0605, 081...\n",
    "998\t0999\t[0289, 0112, 0074, 0263, 0221, 0810, 0284, 077...\n",
    "999\t1000\t[0645, 0589, 0421, 0426, 0787, 0232, 0740, 069...\n",
    "1000 rows × 2 columns\n",
    "```"
   ]
  },
  {
   "cell_type": "markdown",
   "id": "9d8d7885-4ed4-4129-86b1-690e1eca0367",
   "metadata": {},
   "source": [
    "### Exercise 2\n",
    "Filter out from the previous dataframe those recommendations that have different type as the product, while keeping the order of similarity scores. The dataframe should have the same number of rows as the output from exercise 1."
   ]
  },
  {
   "cell_type": "code",
   "execution_count": 22,
   "id": "466c7f2e-bef8-4569-b81d-e5b500bca74b",
   "metadata": {},
   "outputs": [],
   "source": [
    "def filter_recos_by_type(df_recos: pd.DataFrame, df_types: pd.DataFrame) -> pd.DataFrame:\n",
    "    df_filtered_recos = None\n",
    "    # First filter then take K\n",
    "    return df_filtered_recos"
   ]
  },
  {
   "cell_type": "markdown",
   "id": "1214a4d2-6137-4d9d-aa04-8fcd17cd3ce4",
   "metadata": {},
   "source": [
    "#### Expected Output\n",
    "```\n",
    "prod\trecos\n",
    "0\t0001\t[0476, 0718, 0140, 0446, 0198, 0412, 0406, 005...\n",
    "1\t0002\t[0728, 0545, 0091, 0642, 0473, 0124, 0729, 020...\n",
    "2\t0003\t[0821, 0499, 0114, 0572, 0973, 0046, 0411, 051...\n",
    "3\t0004\t[0484, 0953, 0042, 0653, 0705, 0337, 0132, 077...\n",
    "4\t0005\t[0302, 0172, 0017, 0621, 0068, 0984, 0018, 068...\n",
    "...\t...\t...\n",
    "995\t0996\t[0481, 0962, 0588, 0974, 0286, 0212, 0060, 037...\n",
    "996\t0997\t[0281, 0917, 0217, 0260, 0136, 0139, 0141, 001...\n",
    "997\t0998\t[0542, 0155, 0223, 0219, 0825, 0612, 0092, 010...\n",
    "998\t0999\t[0284, 0546, 0212, 0915, 0459, 0896, 0274, 040...\n",
    "999\t1000\t[0645, 0232, 0869, 0888, 0954, 0621, 0931, 084...\n",
    "1000 rows × 2 columns\n",
    "```"
   ]
  },
  {
   "cell_type": "markdown",
   "id": "e808327a-7469-4655-a61c-5db5504a2b15",
   "metadata": {},
   "source": [
    "### Exercise 3\n",
    "Fix k to 3 in the first exercise, run everything again, and now remove rows where filtered recommendations are empty."
   ]
  },
  {
   "cell_type": "code",
   "execution_count": 23,
   "id": "4c9b9529-565c-49d1-a919-ecd223c5d60d",
   "metadata": {},
   "outputs": [],
   "source": [
    "def filter_empty_recommendations(df_recos: pd.DataFrame) -> pd.DataFrame:\n",
    "    df_filtered_empty_recos = None\n",
    "    # Empty lists, not empty values\n",
    "    return df_filtered_empty_recos"
   ]
  },
  {
   "cell_type": "markdown",
   "id": "83f1d517-d7db-4a36-8795-91d42c01a60e",
   "metadata": {},
   "source": [
    "#### Expected Output\n",
    "```\n",
    "prod\trecos\n",
    "0\t0001\t[0476, 0718]\n",
    "1\t0002\t[0728]\n",
    "2\t0005\t[0302, 0172]\n",
    "3\t0009\t[0504, 0775]\n",
    "4\t0013\t[0975]\n",
    "...\t...\t...\n",
    "433\t0994\t[0151, 0387]\n",
    "434\t0996\t[0481]\n",
    "435\t0997\t[0281, 0917]\n",
    "436\t0998\t[0542, 0155]\n",
    "437\t1000\t[0645]\n",
    "438 rows × 2 columns\n",
    "```"
   ]
  },
  {
   "cell_type": "code",
   "execution_count": null,
   "id": "9aa0737c-b5b2-4118-aa8a-b3ac9b41732c",
   "metadata": {},
   "outputs": [],
   "source": []
  },
  {
   "cell_type": "code",
   "execution_count": null,
   "id": "f88f0058-be46-470d-9933-6bdf64bca456",
   "metadata": {},
   "outputs": [],
   "source": []
  }
 ],
 "metadata": {
  "kernelspec": {
   "display_name": "Python 3 (ipykernel)",
   "language": "python",
   "name": "python3"
  },
  "language_info": {
   "codemirror_mode": {
    "name": "ipython",
    "version": 3
   },
   "file_extension": ".py",
   "mimetype": "text/x-python",
   "name": "python",
   "nbconvert_exporter": "python",
   "pygments_lexer": "ipython3",
   "version": "3.11.6"
  }
 },
 "nbformat": 4,
 "nbformat_minor": 5
}
