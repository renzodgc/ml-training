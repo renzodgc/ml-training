{
 "cells": [
  {
   "cell_type": "code",
   "execution_count": 2,
   "id": "f5d6c055-e11e-4210-9cda-f84c4cafa199",
   "metadata": {},
   "outputs": [],
   "source": [
    "SEED = 100"
   ]
  },
  {
   "cell_type": "markdown",
   "id": "8b894e47-4b61-4fcc-9f3b-ee48f933aa6c",
   "metadata": {},
   "source": [
    "# Numpy\n",
    "\n",
    "Take a look at the exercises on the site  [101 NumPy Exercises for Data Analysis](https://www.machinelearningplus.com/python/101-numpy-exercises-python/) and resolve some of them. We recommend these 3\n",
    "- 45. How to find the most frequent value in a numpy array?\n",
    "- 47. How to replace all values greater than a given value to a given cutoff?\n",
    "- 50. How to convert an array of arrays into a flat 1d array?"
   ]
  },
  {
   "cell_type": "code",
   "execution_count": 3,
   "id": "7b8fc52b-ddc8-46ba-8e3b-0cb70213afe2",
   "metadata": {},
   "outputs": [],
   "source": [
    "import numpy as np\n",
    "from scipy.stats import mode\n",
    "\n",
    "np.random.seed(seed=SEED)"
   ]
  },
  {
   "cell_type": "code",
   "execution_count": 4,
   "id": "ac54baad-2ef8-42db-82ea-e3e746e61a94",
   "metadata": {},
   "outputs": [
    {
     "name": "stdout",
     "output_type": "stream",
     "text": [
      "ModeResult(mode=np.float32(1.5), count=np.int64(14))\n"
     ]
    }
   ],
   "source": [
    "# 45 How to find the most frequent value in a numpy array?\n",
    "url = 'https://archive.ics.uci.edu/ml/machine-learning-databases/iris/iris.data'\n",
    "iris = np.genfromtxt(url, delimiter=',', dtype='float32')\n",
    "\n",
    "print(mode(iris[:, 2]))"
   ]
  },
  {
   "cell_type": "code",
   "execution_count": 5,
   "id": "b69a2139-5aca-4724-aef6-66bbb071e8f6",
   "metadata": {},
   "outputs": [
    {
     "name": "stdout",
     "output_type": "stream",
     "text": [
      "[27.62684215 14.64009987 21.80136195 30.         10.         10.\n",
      " 30.         30.         10.         29.17957314 30.         11.25090398\n",
      " 10.08108276 10.         11.76517714 30.         30.         10.\n",
      " 30.         14.42961361]\n",
      "[27.62684215 14.64009987 21.80136195 30.         10.         10.\n",
      " 30.         30.         10.         29.17957314 30.         11.25090398\n",
      " 10.08108276 10.         11.76517714 30.         30.         10.\n",
      " 30.         14.42961361]\n"
     ]
    }
   ],
   "source": [
    "# 47 How to replace all values greater than a given value to a given cutoff?\n",
    "# Q. From the array a, replace all values greater than 30 to 30 and less than 10 to 10.\n",
    "a = np.random.uniform(1, 50, 20)\n",
    "\n",
    "a[a > 30] = 30\n",
    "a[a < 10] = 10\n",
    "print(a)\n",
    "\n",
    "# Solution 1: Using np.clip\n",
    "np.clip(a, a_min=10, a_max=30)\n",
    "print(a)"
   ]
  },
  {
   "cell_type": "code",
   "execution_count": 6,
   "id": "07a89a04-c7ff-4ca6-b1f3-b4687e36cf07",
   "metadata": {},
   "outputs": [
    {
     "name": "stdout",
     "output_type": "stream",
     "text": [
      "[[0 1 2]\n",
      " [3 4 5]\n",
      " [6 7 8]]\n",
      "[0 1 2 3 4 5 6 7 8]\n"
     ]
    }
   ],
   "source": [
    "# 50 How to convert an array of arrays into a flat 1d array?\n",
    "arr1 = np.arange(3)\n",
    "arr2 = np.arange(3,6)\n",
    "arr3 = np.arange(6,9)\n",
    "\n",
    "array_of_arrays = np.array([arr1, arr2, arr3])\n",
    "print(array_of_arrays)\n",
    "\n",
    "flattened_array = array_of_arrays.flatten()\n",
    "print(flattened_array)\n",
    "\n",
    "# Desired output: array([0, 1, 2, 3, 4, 5, 6, 7, 8, 9])"
   ]
  },
  {
   "cell_type": "code",
   "execution_count": 21,
   "id": "90a684cd-9607-4d7e-9486-54c15e2ca035",
   "metadata": {},
   "outputs": [
    {
     "name": "stdout",
     "output_type": "stream",
     "text": [
      "Array:  [0 0 3 0 2 4 2 2 2 2]\n",
      "[0 2 3 4]\n",
      "[0 4 2 5]\n",
      "[2 3 4]\n",
      "[False  True False  True False False  True  True  True  True]\n"
     ]
    }
   ],
   "source": [
    "# 58. How to find the duplicate records in a numpy array?\n",
    "\n",
    "# Input\n",
    "np.random.seed(100)\n",
    "a = np.random.randint(0, 5, 10)\n",
    "print('Array: ', a)\n",
    "#> Array: [0 0 3 0 2 4 2 2 2 2]\n",
    "\n",
    "unique, unique_index = np.unique(a, return_index=True)\n",
    "print(unique)\n",
    "print(index)\n",
    "dup = unique[index > 1]\n",
    "print(dup)\n",
    "\n",
    "out = np.full(a.shape[0], True)\n",
    "\n",
    "out[index] = False\n",
    "\n",
    "print(out)\n",
    "\n",
    "\n",
    "# Desired\n",
    "#> [False  True False  True False False  True  True  True  True]\n"
   ]
  },
  {
   "cell_type": "code",
   "execution_count": 25,
   "id": "12488ba6-a74d-4350-8303-e817ef1ed90e",
   "metadata": {},
   "outputs": [
    {
     "name": "stdout",
     "output_type": "stream",
     "text": [
      "[1. 2. 3. 5. 6. 7.]\n"
     ]
    }
   ],
   "source": [
    "# 61. How to drop all missing values from a numpy array?\n",
    "\n",
    "a = np.array([1,2,3,np.nan,5,6,7,np.nan])\n",
    "\n",
    "result = a[~np.isnan(a)]\n",
    "print(result)\n",
    "\n",
    "# Desired array([ 1.,  2.,  3.,  5.,  6.,  7.])\n"
   ]
  },
  {
   "cell_type": "code",
   "execution_count": 27,
   "id": "2e170066-60c4-4396-b912-d145d72908d4",
   "metadata": {},
   "outputs": [
    {
     "name": "stdout",
     "output_type": "stream",
     "text": [
      "6.708203932499369\n"
     ]
    }
   ],
   "source": [
    "# 62. How to compute the euclidean distance between two arrays?\n",
    "\n",
    "a = np.array([1,2,3,4,5])\n",
    "b = np.array([4,5,6,7,8])\n",
    "\n",
    "distance = np.linalg.norm(a - b)\n",
    "\n",
    "print(distance)"
   ]
  },
  {
   "cell_type": "code",
   "execution_count": 33,
   "id": "26538d45-cbb8-4281-975a-9b07d301a117",
   "metadata": {},
   "outputs": [
    {
     "name": "stdout",
     "output_type": "stream",
     "text": [
      "[[1]\n",
      " [2]\n",
      " [3]]\n",
      "[[2 2 2]\n",
      " [2 2 2]\n",
      " [2 2 2]]\n"
     ]
    }
   ],
   "source": [
    "# 64. How to subtract a 1d array from a 2d array, where each item of 1d array subtracts from respective row?\n",
    "\n",
    "a_2d = np.array([[3,3,3],[4,4,4],[5,5,5]])\n",
    "b_1d = np.array([1,2,3])\n",
    "\n",
    "print(b_1d[:, None])\n",
    "\n",
    "result = a_2d - b_1d[:, None]\n",
    "print(result)\n",
    "#> [[2 2 2]\n",
    "#>  [2 2 2]\n",
    "#>  [2 2 2]]"
   ]
  },
  {
   "cell_type": "code",
   "execution_count": null,
   "id": "41568cb5-e33c-4d66-b925-f5f6f7bddc9d",
   "metadata": {},
   "outputs": [],
   "source": []
  }
 ],
 "metadata": {
  "kernelspec": {
   "display_name": "Python 3 (ipykernel)",
   "language": "python",
   "name": "python3"
  },
  "language_info": {
   "codemirror_mode": {
    "name": "ipython",
    "version": 3
   },
   "file_extension": ".py",
   "mimetype": "text/x-python",
   "name": "python",
   "nbconvert_exporter": "python",
   "pygments_lexer": "ipython3",
   "version": "3.11.6"
  }
 },
 "nbformat": 4,
 "nbformat_minor": 5
}
